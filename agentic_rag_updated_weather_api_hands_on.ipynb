{
 "cells": [
  {
   "cell_type": "code",
   "execution_count": 1,
   "id": "11598cdd-6b8d-46a0-b844-a55dd2eca7d6",
   "metadata": {},
   "outputs": [],
   "source": [
    "import os\n",
    "os.environ[\"OPENAI_API_KEY\"] = \" your api key\""
   ]
  },
  {
   "cell_type": "code",
   "execution_count": 2,
   "id": "6ad1c716-8b37-4616-ae97-1e2cb6603a29",
   "metadata": {},
   "outputs": [
    {
     "name": "stderr",
     "output_type": "stream",
     "text": [
      "C:\\Users\\tksen\\AppData\\Local\\Temp\\ipykernel_13916\\1801414.py:15: LangChainDeprecationWarning: The class `OpenAIEmbeddings` was deprecated in LangChain 0.0.9 and will be removed in 1.0. An updated version of the class exists in the :class:`~langchain-openai package and should be used instead. To use it run `pip install -U :class:`~langchain-openai` and import as `from :class:`~langchain_openai import OpenAIEmbeddings``.\n",
      "  embeddings = OpenAIEmbeddings()\n"
     ]
    }
   ],
   "source": [
    "from langchain.vectorstores import FAISS\n",
    "from langchain.embeddings.openai import OpenAIEmbeddings\n",
    "from langchain.text_splitter import RecursiveCharacterTextSplitter\n",
    "from langchain.document_loaders import TextLoader\n",
    "\n",
    "# Load data from a text file\n",
    "loader = TextLoader(\"GradAscent.txt\")  # Replace with your knowledge base\n",
    "documents = loader.load()\n",
    "\n",
    "# Split data into manageable chunks\n",
    "text_splitter = RecursiveCharacterTextSplitter(chunk_size=500, chunk_overlap=50)\n",
    "docs = text_splitter.split_documents(documents)\n",
    "\n",
    "# Create a vector store with embeddings\n",
    "embeddings = OpenAIEmbeddings()\n",
    "vector_store = FAISS.from_documents(docs, embeddings)\n",
    "\n",
    "# Initialize a retriever for querying the vector store\n",
    "retriever = vector_store.as_retriever(search_type=\"similarity\", search_k=3)"
   ]
  },
  {
   "cell_type": "code",
   "execution_count": 20,
   "id": "717746e1-be5a-4656-87c3-f48e076f067f",
   "metadata": {},
   "outputs": [
    {
     "name": "stdout",
     "output_type": "stream",
     "text": [
      "(13.0836939, 80.270186)\n",
      "The current weather in Chennai is 24.1°C with wind speed of 2.3 km/h.\n"
     ]
    }
   ],
   "source": [
    "import requests\n",
    "from langchain.agents import Tool\n",
    "\n",
    "# Function to get latitude & longitude from a location name\n",
    "# def get_lat_lon(location: str):\n",
    "#     geo_url = \"https://nominatim.openstreetmap.org/search\"\n",
    "#     params = {\"q\": location, \"format\": \"json\"}\n",
    "#     headers = {\"User-Agent\": \"Mozilla/5.0 (Windows NT 10.0; Win64; x64) AppleWebKit/537.36 (KHTML, like Gecko) Chrome/120.0.0.0 Safari/537.36\"}\n",
    "\n",
    "#     try:\n",
    "#         response = requests.get(geo_url, params=params, headers=headers)\n",
    "#         data = response.json()\n",
    "\n",
    "#         if data:\n",
    "#             return float(data[0][\"lat\"]), float(data[0][\"lon\"])\n",
    "#         else:\n",
    "#             return None, None  # Location not found\n",
    "\n",
    "#     except Exception as e:\n",
    "#         return None, None  # Handle API failure\n",
    "\n",
    "import requests\n",
    "\n",
    "def get_lat_lon(location: str):\n",
    "    api_key = \"your api key\"  # Replace with your LocationIQ API key, free version is available\n",
    "    geo_url = \"https://us1.locationiq.com/v1/search.php\"\n",
    "    \n",
    "    params = {\n",
    "        \"key\": api_key,\n",
    "        \"q\": location,\n",
    "        \"format\": \"json\"\n",
    "    }\n",
    "\n",
    "    try:\n",
    "        response = requests.get(geo_url, params=params)\n",
    "\n",
    "        if response.status_code != 200:\n",
    "            #print(f\"Error: {response.status_code}, {response.text}\")\n",
    "            return None, None\n",
    "\n",
    "        data = response.json()\n",
    "        #print(data)  # Debugging\n",
    "\n",
    "        if data:\n",
    "            return float(data[0][\"lat\"]), float(data[0][\"lon\"])\n",
    "        else:\n",
    "            print(\"Location not found.\")\n",
    "            return None, None\n",
    "\n",
    "    except Exception as e:\n",
    "        print(f\"Exception: {e}\")\n",
    "        return None, None\n",
    "\n",
    "# Test\n",
    "#lat,lon=get_lat_lon(\"Chennai\")\n",
    "\n",
    "\n",
    "# Function to fetch real-time weather using Open-Meteo API\n",
    "def get_weather(location: str):\n",
    "    lat, lon = get_lat_lon(location)\n",
    "\n",
    "    if lat is None or lon is None:\n",
    "        return f\"Could not find location: {location}. Please try another.\"\n",
    "\n",
    "    weather_url = \"https://api.open-meteo.com/v1/forecast\"\n",
    "    params = {\n",
    "        \"latitude\": lat,\n",
    "        \"longitude\": lon,\n",
    "        \"current_weather\": True\n",
    "    }\n",
    "\n",
    "    try:\n",
    "        response = requests.get(weather_url, params=params)\n",
    "        data = response.json()\n",
    "\n",
    "        weather = data.get(\"current_weather\", {})\n",
    "        if weather:\n",
    "            temperature = weather.get(\"temperature\")\n",
    "            wind_speed = weather.get(\"windspeed\")\n",
    "            return (f\"The current weather in {location} is {temperature}°C \"\n",
    "                    f\"with wind speed of {wind_speed} km/h.\")\n",
    "        else:\n",
    "            return f\"Weather data unavailable for {location}.\"\n",
    "\n",
    "    except Exception as e:\n",
    "        return f\"Error fetching weather: {e}\"\n",
    "\n",
    "# Define the weather tool for the agent\n",
    "weather_tool = Tool(\n",
    "    name=\"Weather Tool\",\n",
    "    func=get_weather,\n",
    "    description=\"Fetches live weather information for any given location.\"\n",
    ")\n",
    "\n",
    "# Test the fix\n",
    "print(get_lat_lon(\"Chennai\"))  # Should return valid latitude and longitude\n",
    "print(get_weather(\"Chennai\"))  # Should return actual weather data\n"
   ]
  },
  {
   "cell_type": "code",
   "execution_count": 15,
   "id": "fb6a2879-9e7e-47a6-a933-3bd1c84a25e2",
   "metadata": {},
   "outputs": [],
   "source": [
    "from langchain.chains import RetrievalQA\n",
    "from langchain.chat_models import ChatOpenAI\n",
    "\n",
    "# Initialize the LLM\n",
    "llm = ChatOpenAI(model=\"gpt-4o-mini\")\n",
    "\n",
    "# Create the Retrieval QA chain\n",
    "retrieval_qa_chain = RetrievalQA.from_chain_type(\n",
    "    llm=llm,\n",
    "    retriever=retriever,\n",
    "    return_source_documents=True\n",
    ")"
   ]
  },
  {
   "cell_type": "code",
   "execution_count": 16,
   "id": "638a86b0-5dc6-4052-9546-a3e76c2483dd",
   "metadata": {},
   "outputs": [
    {
     "name": "stderr",
     "output_type": "stream",
     "text": [
      "C:\\Users\\tksen\\AppData\\Local\\Temp\\ipykernel_13916\\1622539109.py:14: LangChainDeprecationWarning: LangChain agents will continue to be supported, but it is recommended for new use cases to be built with LangGraph. LangGraph offers a more flexible and full-featured framework for building agents, including support for tool-calling, persistence of state, and human-in-the-loop workflows. For details, refer to the `LangGraph documentation <https://langchain-ai.github.io/langgraph/>`_ as well as guides for `Migrating from AgentExecutor <https://python.langchain.com/docs/how_to/migrate_agent/>`_ and LangGraph's `Pre-built ReAct agent <https://langchain-ai.github.io/langgraph/how-tos/create-react-agent/>`_.\n",
      "  agent = initialize_agent(\n"
     ]
    }
   ],
   "source": [
    "from langchain.agents import initialize_agent, Tool, AgentType\n",
    "\n",
    "# Combine tools and retrieval chain\n",
    "def document_retrieval(query: str):\n",
    "    return retrieval_qa_chain({\"query\": query})[\"result\"]\n",
    "\n",
    "tools = [\n",
    "    Tool(name=\"Document Retrieval\", func=document_retrieval, description=\"Retrieve knowledge from the document database.\"),\n",
    "    weather_tool\n",
    "]\n",
    "\n",
    "\n",
    "# Initialize the agent\n",
    "agent = initialize_agent(\n",
    "    tools=tools,\n",
    "    llm=llm,\n",
    "    agent=AgentType.ZERO_SHOT_REACT_DESCRIPTION,\n",
    "    verbose=True\n",
    ")"
   ]
  },
  {
   "cell_type": "code",
   "execution_count": 17,
   "id": "2add4fb5-a516-4fb9-bccc-4bc02efa3b19",
   "metadata": {},
   "outputs": [],
   "source": [
    "def chatbot_agentic_rag():\n",
    "    print(\"Agentic RAG  is running! Type 'exit' to terminate.\")\n",
    "    while True:\n",
    "        user_query = input(\"You: \")\n",
    "        if user_query.lower() == \"exit\":\n",
    "            print(\"Chatbot session terminated.\")\n",
    "            break\n",
    "        try:\n",
    "            response = agent.run(user_query)\n",
    "            print(f\"Bot: {response}\")\n",
    "        except Exception as e:\n",
    "            print(f\"Error: {e}\")"
   ]
  },
  {
   "cell_type": "code",
   "execution_count": 21,
   "id": "d882871d-8895-4c30-99fb-d3d411788e63",
   "metadata": {},
   "outputs": [
    {
     "name": "stdout",
     "output_type": "stream",
     "text": [
      "Agentic RAG  is running! Type 'exit' to terminate.\n"
     ]
    },
    {
     "name": "stdin",
     "output_type": "stream",
     "text": [
      "You:  Where is Grad Ascent heardquartered and what is the weather out there now ?\n"
     ]
    },
    {
     "name": "stdout",
     "output_type": "stream",
     "text": [
      "\n",
      "\n",
      "\u001b[1m> Entering new AgentExecutor chain...\u001b[0m\n",
      "\u001b[32;1m\u001b[1;3mI need to find out where Grad Ascent is headquartered first, and then I will check the weather for that location. \n",
      "Action: Document Retrieval\n",
      "Action Input: \"Grad Ascent headquarters location\"\u001b[0m\n",
      "Observation: \u001b[36;1m\u001b[1;3mGrad Ascent Technologies has its headquarters in Chennai.\u001b[0m\n",
      "Thought:\u001b[32;1m\u001b[1;3mNow that I know Grad Ascent is headquartered in Chennai, I will check the current weather in Chennai.  \n",
      "Action: Weather Tool  \n",
      "Action Input: \"Chennai\"  \u001b[0m\n",
      "Observation: \u001b[33;1m\u001b[1;3mThe current weather in Chennai is 24.1°C with wind speed of 2.3 km/h.\u001b[0m\n",
      "Thought:\u001b[32;1m\u001b[1;3mI now know the final answer.  \n",
      "Final Answer: Grad Ascent is headquartered in Chennai, and the current weather there is 24.1°C with a wind speed of 2.3 km/h.\u001b[0m\n",
      "\n",
      "\u001b[1m> Finished chain.\u001b[0m\n",
      "Bot: Grad Ascent is headquartered in Chennai, and the current weather there is 24.1°C with a wind speed of 2.3 km/h.\n"
     ]
    },
    {
     "name": "stdin",
     "output_type": "stream",
     "text": [
      "You:  exit\n"
     ]
    },
    {
     "name": "stdout",
     "output_type": "stream",
     "text": [
      "Chatbot session terminated.\n"
     ]
    }
   ],
   "source": [
    "chatbot_agentic_rag()"
   ]
  },
  {
   "cell_type": "code",
   "execution_count": null,
   "id": "60ec9cfa-3c79-4a5d-8e96-6edbf6a15bb0",
   "metadata": {},
   "outputs": [],
   "source": []
  },
  {
   "cell_type": "code",
   "execution_count": null,
   "id": "260223cc-db13-4535-af30-d491d9af5f17",
   "metadata": {},
   "outputs": [],
   "source": []
  }
 ],
 "metadata": {
  "kernelspec": {
   "display_name": "Python 3 (ipykernel)",
   "language": "python",
   "name": "python3"
  },
  "language_info": {
   "codemirror_mode": {
    "name": "ipython",
    "version": 3
   },
   "file_extension": ".py",
   "mimetype": "text/x-python",
   "name": "python",
   "nbconvert_exporter": "python",
   "pygments_lexer": "ipython3",
   "version": "3.9.20"
  }
 },
 "nbformat": 4,
 "nbformat_minor": 5
}
